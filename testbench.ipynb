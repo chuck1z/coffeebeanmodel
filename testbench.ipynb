{
 "cells": [
  {
   "cell_type": "code",
   "execution_count": 1,
   "metadata": {},
   "outputs": [
    {
     "name": "stderr",
     "output_type": "stream",
     "text": [
      "2023-05-23 14:54:52.463627: I tensorflow/tsl/cuda/cudart_stub.cc:28] Could not find cuda drivers on your machine, GPU will not be used.\n",
      "2023-05-23 14:54:55.060425: I tensorflow/tsl/cuda/cudart_stub.cc:28] Could not find cuda drivers on your machine, GPU will not be used.\n",
      "2023-05-23 14:54:55.107785: I tensorflow/core/platform/cpu_feature_guard.cc:182] This TensorFlow binary is optimized to use available CPU instructions in performance-critical operations.\n",
      "To enable the following instructions: AVX2 AVX512F FMA, in other operations, rebuild TensorFlow with the appropriate compiler flags.\n",
      "2023-05-23 14:55:05.717458: W tensorflow/compiler/tf2tensorrt/utils/py_utils.cc:38] TF-TRT Warning: Could not find TensorRT\n"
     ]
    }
   ],
   "source": [
    "import uvicorn\n",
    "from enum import Enum\n",
    "from pydantic import BaseModel\n",
    "from fastapi import FastAPI, HTTPException, Path, UploadFile\n",
    "import tensorflow as tf\n",
    "import numpy as np\n",
    "import os\n",
    "from io import BytesIO\n",
    "from tensorflow.keras.preprocessing import image\n",
    "from PIL import Image"
   ]
  },
  {
   "cell_type": "code",
   "execution_count": 1,
   "metadata": {},
   "outputs": [],
   "source": [
    "def somethingidk2(file):\n",
    "    print(\"classifier initiated\")\n",
    "    # predicting images\n",
    "\n",
    "    path = file\n",
    "\n",
    "    img = image.load_img(path, target_size=(200,200))\n",
    "\n",
    "    x = image.img_to_array(img)\n",
    "    x = np.expand_dims(x, axis=0)\n",
    "\n",
    "    images = np.vstack([x]) \n",
    "    classes = loaded_model.predict(images) \n",
    "    print(classes[0]) \n",
    "\n",
    "\n",
    "    if classes[0] > 0.9:\n",
    "        return 'normal'\n",
    "    \n",
    "    return 'defect'"
   ]
  },
  {
   "cell_type": "code",
   "execution_count": 2,
   "metadata": {},
   "outputs": [
    {
     "name": "stdout",
     "output_type": "stream",
     "text": [
      "classifier initiated\n"
     ]
    },
    {
     "ename": "AttributeError",
     "evalue": "'str' object has no attribute 'load_img'",
     "output_type": "error",
     "traceback": [
      "\u001b[0;31m---------------------------------------------------------------------------\u001b[0m",
      "\u001b[0;31mAttributeError\u001b[0m                            Traceback (most recent call last)",
      "Cell \u001b[0;32mIn[2], line 2\u001b[0m\n\u001b[1;32m      1\u001b[0m image \u001b[39m=\u001b[39m \u001b[39m\"\u001b[39m\u001b[39m_0528c3b4-d356-4a60-ad9d-c605f5eff09b.jpg\u001b[39m\u001b[39m\"\u001b[39m\n\u001b[0;32m----> 2\u001b[0m somethingidk2(image)\n",
      "Cell \u001b[0;32mIn[1], line 7\u001b[0m, in \u001b[0;36msomethingidk2\u001b[0;34m(file)\u001b[0m\n\u001b[1;32m      3\u001b[0m \u001b[39m# predicting images\u001b[39;00m\n\u001b[1;32m      5\u001b[0m path \u001b[39m=\u001b[39m file\n\u001b[0;32m----> 7\u001b[0m img \u001b[39m=\u001b[39m image\u001b[39m.\u001b[39;49mload_img(path, target_size\u001b[39m=\u001b[39m(\u001b[39m200\u001b[39m,\u001b[39m200\u001b[39m))\n\u001b[1;32m      9\u001b[0m x \u001b[39m=\u001b[39m image\u001b[39m.\u001b[39mimg_to_array(img)\n\u001b[1;32m     10\u001b[0m x \u001b[39m=\u001b[39m np\u001b[39m.\u001b[39mexpand_dims(x, axis\u001b[39m=\u001b[39m\u001b[39m0\u001b[39m)\n",
      "\u001b[0;31mAttributeError\u001b[0m: 'str' object has no attribute 'load_img'"
     ]
    }
   ],
   "source": [
    "image = \"_0528c3b4-d356-4a60-ad9d-c605f5eff09b.jpg\"\n",
    "somethingidk2(image)"
   ]
  }
 ],
 "metadata": {
  "kernelspec": {
   "display_name": "Python 3 (ipykernel)",
   "language": "python",
   "name": "python3"
  },
  "language_info": {
   "codemirror_mode": {
    "name": "ipython",
    "version": 3
   },
   "file_extension": ".py",
   "mimetype": "text/x-python",
   "name": "python",
   "nbconvert_exporter": "python",
   "pygments_lexer": "ipython3",
   "version": "3.10.4"
  },
  "orig_nbformat": 4
 },
 "nbformat": 4,
 "nbformat_minor": 2
}
